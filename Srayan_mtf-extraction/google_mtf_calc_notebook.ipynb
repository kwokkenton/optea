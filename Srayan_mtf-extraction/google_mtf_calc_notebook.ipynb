{
 "cells": [
  {
   "cell_type": "code",
   "execution_count": null,
   "metadata": {},
   "outputs": [],
   "source": [
    "from mtf_calculator import *\n",
    "from skimage import io\n",
    "import scipy as sp\n",
    "import itertools"
   ]
  },
  {
   "cell_type": "code",
   "execution_count": null,
   "metadata": {},
   "outputs": [],
   "source": [
    "# SETUP\n",
    "data_dir = r'D:\\MSci_Project\\1_Data'\n",
    "bg_dir = data_dir + r'\\2023-01-17 background images'\n",
    "img_dir = data_dir + r'\\2023-02-15 edge depth sweep green'\n",
    "\n",
    "# initial image crop\n",
    "crop = [250, 550, 375, 575]\n",
    "\n",
    "# mtf patch\n",
    "edge_start = [75, 75]\n",
    "edge_end = [175, 250]\n",
    "desired_width = 100\n",
    "crop_ratio = 1"
   ]
  },
  {
   "cell_type": "code",
   "execution_count": null,
   "metadata": {},
   "outputs": [],
   "source": []
  }
 ],
 "metadata": {
  "kernelspec": {
   "display_name": "opt",
   "language": "python",
   "name": "python3"
  },
  "language_info": {
   "name": "python",
   "version": "3.10.8"
  },
  "orig_nbformat": 4,
  "vscode": {
   "interpreter": {
    "hash": "924ef5b58bd14b506212eb724d995229b906ecd37a56c6fedb8badd8bf099c30"
   }
  }
 },
 "nbformat": 4,
 "nbformat_minor": 2
}

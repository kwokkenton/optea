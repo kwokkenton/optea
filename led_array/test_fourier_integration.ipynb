{
 "cells": [
  {
   "cell_type": "markdown",
   "id": "f136a310",
   "metadata": {},
   "source": [
    "# Testing Fourier 2D integration using dummy data"
   ]
  },
  {
   "cell_type": "code",
   "execution_count": 1,
   "id": "18010a40-8e89-4eed-a203-f83e16f41b41",
   "metadata": {},
   "outputs": [
    {
     "ename": "ModuleNotFoundError",
     "evalue": "No module named 'pixstem'",
     "output_type": "error",
     "traceback": [
      "\u001b[1;31m---------------------------------------------------------------------------\u001b[0m",
      "\u001b[1;31mModuleNotFoundError\u001b[0m                       Traceback (most recent call last)",
      "\u001b[1;32m~\\AppData\\Local\\Temp\\ipykernel_1452\\772140491.py\u001b[0m in \u001b[0;36m<module>\u001b[1;34m\u001b[0m\n\u001b[1;32m----> 1\u001b[1;33m \u001b[1;32mimport\u001b[0m \u001b[0mpixstem\u001b[0m\u001b[1;33m.\u001b[0m\u001b[0mapi\u001b[0m \u001b[1;32mas\u001b[0m \u001b[0mps\u001b[0m\u001b[1;33m\u001b[0m\u001b[1;33m\u001b[0m\u001b[0m\n\u001b[0m\u001b[0;32m      2\u001b[0m \u001b[1;32mimport\u001b[0m \u001b[0mmatplotlib\u001b[0m\u001b[1;33m.\u001b[0m\u001b[0mpyplot\u001b[0m \u001b[1;32mas\u001b[0m \u001b[0mplt\u001b[0m\u001b[1;33m\u001b[0m\u001b[1;33m\u001b[0m\u001b[0m\n\u001b[0;32m      3\u001b[0m \u001b[1;32mimport\u001b[0m \u001b[0mnumpy\u001b[0m \u001b[1;32mas\u001b[0m \u001b[0mnp\u001b[0m\u001b[1;33m\u001b[0m\u001b[1;33m\u001b[0m\u001b[0m\n",
      "\u001b[1;31mModuleNotFoundError\u001b[0m: No module named 'pixstem'"
     ]
    }
   ],
   "source": [
    "import pixstem.api as ps\n",
    "import matplotlib.pyplot as plt\n",
    "import numpy as np"
   ]
  },
  {
   "cell_type": "code",
   "execution_count": null,
   "id": "a4791d66",
   "metadata": {},
   "outputs": [],
   "source": [
    "def fourier(image):\n",
    "    ft = np.fft.ifftshift(image)\n",
    "    ft = np.fft.fft2(ft)\n",
    "    ft = np.fft.fftshift(ft)\n",
    "    \n",
    "    freq_x = np.fft.fftfreq(ft.shape[0])\n",
    "    freq_y = np.fft.fftfreq(ft.shape[1])\n",
    "    freq_x = np.fft.fftshift(freq_x)\n",
    "    freq_y = np.fft.fftshift(freq_y)\n",
    "\n",
    "    plt.imshow(np.abs(ft), extent=(freq_x.min(),freq_x.max(),freq_y.min(),freq_y.max()))\n",
    "    plt.colorbar()\n",
    "    plt.xlabel('k')\n",
    "    plt.ylabel('l')\n",
    "    plt.show()\n",
    "               \n",
    "    return ft, (freq_x, freq_y)\n",
    "\n",
    "\n",
    "def inv_fourier(ft):\n",
    "    ift = np.fft.ifftshift(ft)\n",
    "    ift = np.fft.ifft2(ift)\n",
    "    ift = np.fft.fftshift(ift)\n",
    "\n",
    "    return ift\n",
    "\n",
    "\n",
    "def test_fourier_integration(dpc_lr, dpc_ud):\n",
    "    fig, axs = plt.subplots(1, 2, figsize=(10, 5))\n",
    "    mp = axs[0].imshow(dpc_lr, cmap='gray')\n",
    "    plt.colorbar(mp, ax=axs[0])\n",
    "    mp = axs[1].imshow(dpc_ud, cmap='gray')\n",
    "    plt.colorbar(mp, ax=axs[1])\n",
    "    plt.tight_layout()\n",
    "    plt.show()\n",
    "\n",
    "    fig, axs = plt.subplots(1, 2, figsize=(10, 5))\n",
    "    mp = axs[0].imshow(np.cumsum(dpc_lr, axis=1))\n",
    "    plt.colorbar(mp, ax=axs[0])\n",
    "    mp = axs[1].imshow(np.cumsum(dpc_ud, axis=0))\n",
    "    plt.colorbar(mp, ax=axs[1])\n",
    "    plt.tight_layout()\n",
    "    plt.show()\n",
    "\n",
    "    phi_x = dpc_lr\n",
    "    phi_y = dpc_ud\n",
    "\n",
    "    g = phi_x + (1j * phi_y)\n",
    "    plt.imshow(np.abs(g))\n",
    "    plt.title('| g(x,y) |')\n",
    "    plt.colorbar()\n",
    "    plt.show()\n",
    "\n",
    "    ft_g, (freq_x, freq_y) = fourier(g)\n",
    "\n",
    "    freq_xx, freq_yy = np.meshgrid(freq_x, freq_y, indexing='ij')\n",
    "    denom = ((2. * np.pi * 1.0j) * (freq_xx + (1.0j * freq_yy))) + 1e-16\n",
    "\n",
    "    phi = inv_fourier(ft_g / denom)\n",
    "    fig, axs = plt.subplots(1, 3, figsize=(12, 4))\n",
    "    mp = axs[0].imshow(np.real(phi))\n",
    "    plt.colorbar(mp, ax=axs[0])\n",
    "    axs[0].set_title(r'$\\Re{(\\Phi)}$')\n",
    "    mp = axs[1].imshow(np.imag(phi))\n",
    "    plt.colorbar(mp, ax=axs[1])\n",
    "    axs[1].set_title(r'$\\Im{(\\Phi)}$')\n",
    "    mp = axs[2].imshow(np.abs(phi))\n",
    "    plt.colorbar(mp, ax=axs[2])\n",
    "    axs[2].set_title(r'$|\\Phi|}$')\n",
    "    plt.tight_layout()\n",
    "    plt.show()"
   ]
  },
  {
   "cell_type": "code",
   "execution_count": null,
   "id": "24ed7b65",
   "metadata": {},
   "outputs": [],
   "source": [
    "s = ps.dummy_data.get_simple_dpc_signal()\n",
    "test_fourier_integration(s.data[1], s.data[0])"
   ]
  },
  {
   "cell_type": "code",
   "execution_count": null,
   "id": "7e284c41",
   "metadata": {},
   "outputs": [],
   "source": [
    "s = ps.dummy_data.get_stripe_pattern_dpc_signal()\n",
    "test_fourier_integration(s.data[1], s.data[0])"
   ]
  },
  {
   "cell_type": "code",
   "execution_count": null,
   "id": "bd700b67",
   "metadata": {},
   "outputs": [],
   "source": [
    "s = ps.dummy_data.get_square_dpc_signal()\n",
    "test_fourier_integration(s.data[1], s.data[0])"
   ]
  },
  {
   "cell_type": "code",
   "execution_count": null,
   "id": "12e87054",
   "metadata": {},
   "outputs": [],
   "source": [
    "s = ps.dummy_data.get_square_dpc_signal(add_ramp=True)\n",
    "test_fourier_integration(s.data[1], s.data[0])"
   ]
  }
 ],
 "metadata": {
  "kernelspec": {
   "display_name": "Python 3 (ipykernel)",
   "language": "python",
   "name": "python3"
  },
  "language_info": {
   "codemirror_mode": {
    "name": "ipython",
    "version": 3
   },
   "file_extension": ".py",
   "mimetype": "text/x-python",
   "name": "python",
   "nbconvert_exporter": "python",
   "pygments_lexer": "ipython3",
   "version": "3.10.8"
  }
 },
 "nbformat": 4,
 "nbformat_minor": 5
}

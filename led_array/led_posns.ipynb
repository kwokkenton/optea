{
 "cells": [
  {
   "attachments": {},
   "cell_type": "markdown",
   "metadata": {},
   "source": [
    "# Programmable illumination: LED positions\n",
    "\n",
    "_Srayan Gangopadhyay_  \n",
    "_Thu 9 Mar 2023_\n",
    "\n",
    "Sources:\n",
    "- https://stackoverflow.com/questions/49330080/numpy-2d-array-selecting-indices-in-a-circle\n",
    "- https://stackoverflow.com/questions/38674027/find-the-row-indexes-of-several-values-in-a-numpy-array\n",
    "- https://stackoverflow.com/questions/34357617/append-2d-array-to-3d-array-extending-third-dimension"
   ]
  },
  {
   "cell_type": "code",
   "execution_count": 1,
   "metadata": {},
   "outputs": [],
   "source": [
    "import numpy as np\n",
    "import matplotlib.pyplot as plt\n",
    "import seaborn as sns"
   ]
  },
  {
   "attachments": {},
   "cell_type": "markdown",
   "metadata": {},
   "source": [
    "## Simulating the LED setup to get the required indices"
   ]
  },
  {
   "cell_type": "code",
   "execution_count": 2,
   "metadata": {},
   "outputs": [],
   "source": [
    "def plot_mask(arr, mask, titles):\n",
    "    fig, axs = plt.subplots(1, 2, figsize=(10, 5))\n",
    "\n",
    "    arr_copy = arr.copy()\n",
    "    arr_copy[mask] = 1\n",
    "\n",
    "    sns.heatmap(arr_copy, cmap=['black', 'r'], ax=axs[0])\n",
    "    axs[0].set_aspect('equal')\n",
    "    axs[0].set_title(f'{titles[0]} LEDs ({np.count_nonzero(arr_copy)})')\n",
    "    posns_1 = np.transpose(np.where(arr_copy==1))\n",
    "\n",
    "    arr_copy = arr.copy()\n",
    "    arr_copy[~mask] = 1\n",
    "\n",
    "    sns.heatmap(arr_copy, cmap=['black', 'r'], ax=axs[1])\n",
    "    axs[1].set_aspect('equal')\n",
    "    axs[1].set_title(f'{titles[0]} LEDs ({np.count_nonzero(arr_copy)})')\n",
    "    posns_2 = np.transpose(np.where(arr_copy==1))\n",
    "\n",
    "    plt.tight_layout()\n",
    "    plt.show()\n",
    "\n",
    "    return posns_1, posns_2"
   ]
  },
  {
   "cell_type": "code",
   "execution_count": 3,
   "metadata": {},
   "outputs": [],
   "source": [
    "def get_led_posns(array_width, circle_radius):\n",
    "    \"\"\"\n",
    "    Given side length of LED array (`array_width`) and radius of circle\n",
    "    required for darkfield/brightfield split (`circle_radius`), plot\n",
    "    LED positions, and return positions in array of LEDs for brightfield, \n",
    "    darkfield, and top/bottom phase contrast imaging (`XXX_posns`).\n",
    "    \"\"\"\n",
    "\n",
    "    x = np.arange(0, array_width)\n",
    "    y = np.arange(0, array_width)\n",
    "    arr = np.zeros((y.size, x.size))\n",
    "\n",
    "    cx = array_width//2\n",
    "    cy = array_width//2\n",
    "    r = circle_radius\n",
    "\n",
    "    circle_mask = (x[np.newaxis,:]-cx)**2 + (y[:,np.newaxis]-cy)**2 < r**2\n",
    "    bright_posns, dark_posns = plot_mask(arr, circle_mask, ['Brightfield', 'Darkfield'])\n",
    "\n",
    "    tb_phase_mask = x < x.size//2\n",
    "    top_posns, bottom_posns = plot_mask(arr, tb_phase_mask, ['Top', 'Bottom'])\n",
    "\n",
    "    return bright_posns, dark_posns, top_posns, bottom_posns"
   ]
  },
  {
   "cell_type": "code",
   "execution_count": 4,
   "metadata": {},
   "outputs": [
    {
     "data": {
      "image/png": "[encoded data removed]",
      "text/plain": [
       "<Figure size 720x360 with 4 Axes>"
      ]
     },
     "metadata": {
      "needs_background": "light"
     },
     "output_type": "display_data"
    },
    {
     "data": {
      "image/png": "[encoded data removed]",
      "text/plain": [
       "<Figure size 720x360 with 4 Axes>"
      ]
     },
     "metadata": {
      "needs_background": "light"
     },
     "output_type": "display_data"
    }
   ],
   "source": [
    "bright_posns, dark_posns, top_posns, bottom_posns = get_led_posns(32, 5)"
   ]
  },
  {
   "cell_type": "code",
   "execution_count": 5,
   "metadata": {},
   "outputs": [
    {
     "name": "stdout",
     "output_type": "stream",
     "text": [
      "Constructing the top phase image requires images\n",
      "[398 399 400 401 402 429 430 431 432 433 434 435 460 461 462 463 464 465\n",
      " 466 467 468 492 493 494 495 496 497 498 499 500]\n",
      "from the brightfield data, and images\n",
      "[  0   1   2   3   4   5   6   7   8   9  10  11  12  13  14  15  16  17\n",
      "  18  19  20  21  22  23  24  25  26  27  28  29  30  31  32  33  34  35\n",
      "  36  37  38  39  40  41  42  43  44  45  46  47  48  49  50  51  52  53\n",
      "  54  55  56  57  58  59  60  61  62  63  64  65  66  67  68  69  70  71\n",
      "  72  73  74  75  76  77  78  79  80  81  82  83  84  85  86  87  88  89\n",
      "  90  91  92  93  94  95  96  97  98  99 100 101 102 103 104 105 106 107\n",
      " 108 109 110 111 112 113 114 115 116 117 118 119 120 121 122 123 124 125\n",
      " 126 127 128 129 130 131 132 133 134 135 136 137 138 139 140 141 142 143\n",
      " 144 145 146 147 148 149 150 151 152 153 154 155 156 157 158 159 160 161\n",
      " 162 163 164 165 166 167 168 169 170 171 172 173 174 175 176 177 178 179\n",
      " 180 181 182 183 184 185 186 187 188 189 190 191 192 193 194 195 196 197\n",
      " 198 199 200 201 202 203 204 205 206 207 208 209 210 211 212 213 214 215\n",
      " 216 217 218 219 220 221 222 223 224 225 226 227 228 229 230 231 232 233\n",
      " 234 235 236 237 238 239 240 241 242 243 244 245 246 247 248 249 250 251\n",
      " 252 253 254 255 256 257 258 259 260 261 262 263 264 265 266 267 268 269\n",
      " 270 271 272 273 274 275 276 277 278 279 280 281 282 283 284 285 286 287\n",
      " 288 289 290 291 292 293 294 295 296 297 298 299 300 301 302 303 304 305\n",
      " 306 307 308 309 310 311 312 313 314 315 316 317 318 319 320 321 322 323\n",
      " 324 325 326 327 328 329 330 331 332 333 334 335 336 337 338 339 340 341\n",
      " 342 343 344 345 346 347 348 349 350 351 352 353 354 355 356 357 358 359\n",
      " 360 361 362 363 364 365 366 367 368 369 370 371 372 373 374 375 376 377\n",
      " 378 379 380 381 382 383 384 385 386 387 388 389 390 391 392 393 394 395\n",
      " 396 397 403 404 405 406 407 408 409 410 411 412 413 414 415 416 417 418\n",
      " 419 420 421 422 423 424 425 426 427 428 436 437 438 439 440 441 442 443\n",
      " 444 445 446 447 448 449 450 451 452 453 454 455 456 457 458 459 469 470\n",
      " 471 472 473 474 475 476 477 478 479 480 481 482 483 484 485 486 487 488\n",
      " 489 490 491 501 502 503 504 505 506 507 508 509 510 511]\n",
      "from the darkfield data.\n"
     ]
    }
   ],
   "source": [
    "top_in_bright = np.where((top_posns==bright_posns[:,None]).all(-1))[1]\n",
    "top_in_dark = np.where((top_posns==dark_posns[:,None]).all(-1))[1]\n",
    "\n",
    "print(f'Constructing the top phase image requires images\\n{top_in_bright}\\nfrom the brightfield data, and images\\n{top_in_dark}\\nfrom the darkfield data.')"
   ]
  }
 ],
 "metadata": {
  "kernelspec": {
   "display_name": "physics",
   "language": "python",
   "name": "python3"
  },
  "language_info": {
   "codemirror_mode": {
    "name": "ipython",
    "version": 3
   },
   "file_extension": ".py",
   "mimetype": "text/x-python",
   "name": "python",
   "nbconvert_exporter": "python",
   "pygments_lexer": "ipython3",
   "version": "3.9.12"
  },
  "orig_nbformat": 4
 },
 "nbformat": 4,
 "nbformat_minor": 2
}

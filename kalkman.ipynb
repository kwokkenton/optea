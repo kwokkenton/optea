{
 "cells": [
  {
   "cell_type": "markdown",
   "metadata": {},
   "source": [
    "# Implementation of Kalkman deconvolution\n",
    "\n",
    "<div class=\"csl-entry\">van der Horst, J., &#38; Kalkman, J. (2016). Image resolution and deconvolution in optical tomography. <i>Optics Express</i>, <i>24</i>(21), 24460. https://doi.org/10.1364/oe.24.024460</div>\n",
    "\n",
    "1. Perform FBP reconstruction of sinogram\n",
    "2. Determine parameterisation of PSF\n",
    "3. Convert image into polar coordinates $(r, \\theta)$ by interpolation\n",
    "   * Interpl2d only gives you points back on a mesh\n",
    "4. Deconvolve using Lucy-Richardson method"
   ]
  },
  {
   "cell_type": "code",
   "execution_count": 1,
   "metadata": {},
   "outputs": [],
   "source": [
    "import numpy as np\n",
    "import matplotlib.pyplot as plt\n",
    "from scipy import interpolate\n",
    "\n",
    "def PSF(u,v):\n",
    "    # (u,v) are parameters in a shifted and rotated coordinate system, representing the radial \n",
    "    # and tangential directions in the reconstructed image\n",
    "    \n",
    "    # Define parameters\n",
    "    lamb = 500e-9 # wavelength (m)\n",
    "    w0 = 6e-6 # Beam waist (m)\n",
    "\n",
    "    # Coordinates in plane polars\n",
    "    r0 = 0 # \n",
    "    theta0 = 0 # Angle from x axis to point\n",
    "\n",
    "    # Evaluation\n",
    "    au = w0*w0/2\n",
    "    av = (w0*w0 + lamb**2*r0**2/(np.pi**2* w0**2)) /2\n",
    "    prefactor = np.sqrt(1/(np.pi*np.pi*au*av ))\n",
    "    function = np.exp(-(u**2/au + v**2/av ))\n",
    "    return prefactor * function"
   ]
  },
  {
   "cell_type": "code",
   "execution_count": 108,
   "metadata": {},
   "outputs": [
    {
     "data": {
      "text/plain": [
       "Text(0, 0.5, 'y')"
      ]
     },
     "execution_count": 108,
     "metadata": {},
     "output_type": "execute_result"
    },
    {
     "data": {
      "image/png": "[encoded data removed]",
      "text/plain": [
       "<Figure size 288x288 with 1 Axes>"
      ]
     },
     "metadata": {
      "needs_background": "light"
     },
     "output_type": "display_data"
    }
   ],
   "source": [
    "# Generate test image for reconstruction\n",
    "image = np.zeros((100,100))\n",
    "image[2,:] = 1\n",
    "image[-15,:] = 1\n",
    "image[:,-15] = 1\n",
    "# plt.imshow(image) \n",
    "\n",
    "size = np.shape(image)[0]\n",
    "x = np.linspace(-size//2, size//2, size)\n",
    "y = x.copy()\n",
    "xx, yy = np.meshgrid(x, y)\n",
    "z = image\n",
    "\n",
    "\n",
    "z[np.sqrt(xx**2 + yy**2)< 25] = 1\n",
    "z[np.sqrt(xx**2 + yy**2)< 22] = 0\n",
    "\n",
    "z[np.sqrt(xx**2 + yy**2)< 15] = 1\n",
    "z[np.sqrt(xx**2 + yy**2)< 13] = 0\n",
    "# plt.imshow(z)\n",
    "\n",
    "# Create interpolant\n",
    "f = interpolate.interp2d(x, y, z, kind='linear')\n",
    "\n",
    "# Plot interpolated function\n",
    "plt.figure(figsize=(4,4))\n",
    "plt.pcolormesh(x,y, f(x,y), shading='auto')\n",
    "plt.xlabel('x')\n",
    "plt.ylabel('y')\n",
    "# plt.colorbar()"
   ]
  },
  {
   "cell_type": "code",
   "execution_count": 109,
   "metadata": {},
   "outputs": [
    {
     "data": {
      "text/plain": [
       "Text(0, 0.5, 'y')"
      ]
     },
     "execution_count": 109,
     "metadata": {},
     "output_type": "execute_result"
    },
    {
     "data": {
      "image/png": "[encoded data removed]",
      "text/plain": [
       "<Figure size 288x288 with 1 Axes>"
      ]
     },
     "metadata": {
      "needs_background": "light"
     },
     "output_type": "display_data"
    }
   ],
   "source": [
    "# Plot interpolated function\n",
    "xnew = np.linspace(-size//2, size//2, 4*size)\n",
    "ynew = x.copy()\n",
    "plt.figure(figsize=(4,4))\n",
    "plt.pcolormesh(xnew,ynew, f(xnew,ynew), shading='auto')\n",
    "plt.xlabel('x')\n",
    "plt.ylabel('y')"
   ]
  },
  {
   "cell_type": "markdown",
   "metadata": {},
   "source": [
    "Transform into plane polars by interpolation"
   ]
  },
  {
   "cell_type": "code",
   "execution_count": 110,
   "metadata": {},
   "outputs": [
    {
     "data": {
      "text/plain": [
       "Text(0, 0.5, 'r')"
      ]
     },
     "execution_count": 110,
     "metadata": {},
     "output_type": "execute_result"
    },
    {
     "data": {
      "image/png": "[encoded data removed]",
      "text/plain": [
       "<Figure size 432x288 with 2 Axes>"
      ]
     },
     "metadata": {
      "needs_background": "light"
     },
     "output_type": "display_data"
    }
   ],
   "source": [
    "# Transform into plane polars (r, theta)\n",
    "# r goes from 0 to sqrt(x_max**2 + y_max**2)\n",
    "# theta goes from 0 to 360\n",
    "r_max = size//2\n",
    "r = np.linspace(0, r_max)\n",
    "theta = np.arange(0,360, 1)/360 * 2*np.pi\n",
    "\n",
    "xs = (r[:, np.newaxis]*np.cos(theta[np.newaxis,:]))\n",
    "ys = (r[:, np.newaxis]*np.sin(theta[np.newaxis,:]))\n",
    "\n",
    "xs = xs.flatten()\n",
    "ys = ys.flatten()\n",
    "\n",
    "result = np.zeros(len(ys))\n",
    "for i in range(len(xs)):\n",
    "    result[i]= f(xs[i], ys[i])\n",
    "\n",
    "plt.pcolormesh(theta,r ,result.reshape((50,360)), shading='auto')\n",
    "plt.colorbar()\n",
    "plt.xlabel('theta')\n",
    "plt.ylabel('r')"
   ]
  },
  {
   "cell_type": "code",
   "execution_count": 83,
   "metadata": {},
   "outputs": [
    {
     "data": {
      "text/plain": [
       "(18000,)"
      ]
     },
     "execution_count": 83,
     "metadata": {},
     "output_type": "execute_result"
    }
   ],
   "source": [
    "result.shape"
   ]
  },
  {
   "cell_type": "code",
   "execution_count": 80,
   "metadata": {},
   "outputs": [
    {
     "data": {
      "text/plain": [
       "18000"
      ]
     },
     "execution_count": 80,
     "metadata": {},
     "output_type": "execute_result"
    }
   ],
   "source": []
  },
  {
   "cell_type": "code",
   "execution_count": 49,
   "metadata": {},
   "outputs": [
    {
     "data": {
      "text/plain": [
       "array([[-5.95855132e-28, -5.95855132e-28, -5.95855132e-28,\n",
       "        -5.95855132e-28],\n",
       "       [-5.95855132e-28, -5.95855132e-28, -5.95855132e-28,\n",
       "        -5.95855132e-28],\n",
       "       [-5.95855132e-28, -5.95855132e-28, -5.95855132e-28,\n",
       "        -5.95855132e-28],\n",
       "       [-5.95855132e-28, -5.95855132e-28, -5.95855132e-28,\n",
       "        -5.95855132e-28]])"
      ]
     },
     "execution_count": 49,
     "metadata": {},
     "output_type": "execute_result"
    }
   ],
   "source": [
    "interpolated"
   ]
  },
  {
   "cell_type": "code",
   "execution_count": 6,
   "metadata": {},
   "outputs": [],
   "source": [
    "def catesian_to_polar(array):\n",
    "    # Input: square array\n",
    "    # Need to resample\n",
    "    # Output: \n",
    "    return"
   ]
  }
 ],
 "metadata": {
  "kernelspec": {
   "display_name": "Python 3.9.10",
   "language": "python",
   "name": "python3"
  },
  "language_info": {
   "codemirror_mode": {
    "name": "ipython",
    "version": 3
   },
   "file_extension": ".py",
   "mimetype": "text/x-python",
   "name": "python",
   "nbconvert_exporter": "python",
   "pygments_lexer": "ipython3",
   "version": "3.9.10"
  },
  "orig_nbformat": 4,
  "vscode": {
   "interpreter": {
    "hash": "742081a4bf02259e09260ac0108c9e3479924a6b57724730ce8e4dfbe6339517"
   }
  }
 },
 "nbformat": 4,
 "nbformat_minor": 2
}

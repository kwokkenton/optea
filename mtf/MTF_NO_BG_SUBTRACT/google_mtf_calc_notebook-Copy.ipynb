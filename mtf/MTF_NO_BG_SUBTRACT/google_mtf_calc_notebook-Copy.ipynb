{
 "cells": [
  {
   "cell_type": "code",
   "execution_count": 1,
   "metadata": {},
   "outputs": [],
   "source": [
    "import sys\n",
    "sys.path.insert(0, '..')\n",
    "\n",
    "from mtf_calculator import *"
   ]
  },
  {
   "cell_type": "code",
   "execution_count": 2,
   "metadata": {},
   "outputs": [],
   "source": [
    "# plt.rcParams.update({'font.size': 18})"
   ]
  },
  {
   "cell_type": "code",
   "execution_count": 3,
   "metadata": {},
   "outputs": [],
   "source": [
    "# SETUP\n",
    "data_dir = r'D:\\MSci_Project\\1_Data'\n",
    "# data_dir = './../../data_store'\n",
    "# bg_dir = data_dir + '/2023-01-17 background images'\n",
    "img_dir = data_dir + '/2023-02-15 edge depth sweep green'\n",
    "\n",
    "# initial image crop\n",
    "crop = [400, 700, 250, 750]\n",
    "\n",
    "# mtf patch\n",
    "edge_start = [100, 100]\n",
    "edge_end = [400, 500]\n",
    "desired_width = 100\n",
    "crop_ratio = 1\n",
    "\n",
    "SAVE_PLOTS = True\n",
    "SAVE_MTFS = False\n",
    "selection = [12, 11, 4]\n",
    "depths = np.arange(9.45, 15.7, 0.25)"
   ]
  },
  {
   "cell_type": "code",
   "execution_count": 4,
   "metadata": {},
   "outputs": [
    {
     "name": "stdout",
     "output_type": "stream",
     "text": [
      "Loaded stack of 125 images, dimensions (300, 500)\n",
      "Averaged original stack of 125 down to 25.\n"
     ]
    },
    {
     "name": "stderr",
     "output_type": "stream",
     "text": [
      "D:\\MSci_Project\\optea\\mtf\\MTF_NO_BG_SUBTRACT\\..\\mtf_calculator.py:298: UserWarning: Matplotlib is currently using pgf, which is a non-GUI backend, so cannot show the figure.\n",
      "  plt.show()\n",
      "D:\\MSci_Project\\optea\\mtf\\MTF_NO_BG_SUBTRACT\\..\\mtf_calculator.py:392: UserWarning: Tight layout not applied. The left and right margins cannot be made large enough to accommodate all axes decorations.\n",
      "  plt.tight_layout()\n"
     ]
    },
    {
     "name": "stdout",
     "output_type": "stream",
     "text": [
      "Depth of field = 0.5\n"
     ]
    }
   ],
   "source": [
    "edge = load_no_divide(img_dir, '2023-02-15 fa', crop)\n",
    "\n",
    "gen_MTF_plots(edge, '0.08', depths, selection, edge_start, edge_end, desired_width, crop_ratio, save_plots=SAVE_PLOTS, save_mtfs=SAVE_MTFS)"
   ]
  },
  {
   "cell_type": "code",
   "execution_count": 5,
   "metadata": {},
   "outputs": [
    {
     "name": "stdout",
     "output_type": "stream",
     "text": [
      "Loaded stack of 125 images, dimensions (300, 500)\n",
      "Averaged original stack of 125 down to 25.\n",
      "Depth of field = 1.25\n"
     ]
    }
   ],
   "source": [
    "edge = load_no_divide(img_dir, '2023-02-15 fc', crop)\n",
    "\n",
    "gen_MTF_plots(edge, '0.05', depths, selection, edge_start, edge_end, desired_width, crop_ratio, save_plots=SAVE_PLOTS, save_mtfs=SAVE_MTFS)"
   ]
  },
  {
   "cell_type": "code",
   "execution_count": 6,
   "metadata": {},
   "outputs": [
    {
     "name": "stdout",
     "output_type": "stream",
     "text": [
      "Loaded stack of 125 images, dimensions (300, 500)\n",
      "Averaged original stack of 125 down to 25.\n",
      "Depth of field = 2.0\n"
     ]
    }
   ],
   "source": [
    "edge = load_no_divide(img_dir, '2023-02-15 fd', crop)\n",
    "\n",
    "gen_MTF_plots(edge, '0.03', depths, selection, edge_start, edge_end, desired_width, crop_ratio, save_plots=SAVE_PLOTS, save_mtfs=SAVE_MTFS)"
   ]
  },
  {
   "cell_type": "code",
   "execution_count": 7,
   "metadata": {},
   "outputs": [
    {
     "name": "stdout",
     "output_type": "stream",
     "text": [
      "Loaded stack of 125 images, dimensions (300, 500)\n",
      "Averaged original stack of 125 down to 25.\n",
      "Depth of field = 3.75\n"
     ]
    }
   ],
   "source": [
    "edge = load_no_divide(img_dir, '2023-02-15 fe', crop)\n",
    "\n",
    "gen_MTF_plots(edge, '0.02', depths, selection, edge_start, edge_end, desired_width, crop_ratio, save_plots=SAVE_PLOTS, save_mtfs=SAVE_MTFS)"
   ]
  },
  {
   "cell_type": "code",
   "execution_count": 8,
   "metadata": {},
   "outputs": [
    {
     "name": "stdout",
     "output_type": "stream",
     "text": [
      "Loaded stack of 125 images, dimensions (300, 500)\n",
      "Averaged original stack of 125 down to 25.\n",
      "Depth of field = 6.0\n"
     ]
    }
   ],
   "source": [
    "edge = load_no_divide(img_dir, '2023-02-15 ff', crop)\n",
    "\n",
    "gen_MTF_plots(edge, '0.02', depths, selection, edge_start, edge_end, desired_width, crop_ratio, save_plots=SAVE_PLOTS, save_mtfs=SAVE_MTFS)"
   ]
  }
 ],
 "metadata": {
  "kernelspec": {
   "display_name": "Python 3 (ipykernel)",
   "language": "python",
   "name": "python3"
  },
  "language_info": {
   "codemirror_mode": {
    "name": "ipython",
    "version": 3
   },
   "file_extension": ".py",
   "mimetype": "text/x-python",
   "name": "python",
   "nbconvert_exporter": "python",
   "pygments_lexer": "ipython3",
   "version": "3.10.8"
  },
  "vscode": {
   "interpreter": {
    "hash": "924ef5b58bd14b506212eb724d995229b906ecd37a56c6fedb8badd8bf099c30"
   }
  }
 },
 "nbformat": 4,
 "nbformat_minor": 4
}

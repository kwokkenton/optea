{
 "cells": [
  {
   "cell_type": "markdown",
   "id": "26303d10",
   "metadata": {},
   "source": [
    "# GPU-accelerated Filtered Backprojection\n",
    "\n",
    "Using Astra."
   ]
  },
  {
   "cell_type": "code",
   "execution_count": 1,
   "id": "9692e750",
   "metadata": {},
   "outputs": [],
   "source": [
    "# Import relevant packages\n",
    "\n",
    "from __future__ import division\n",
    "from os import mkdir\n",
    "from os.path import join, isdir\n",
    "from imageio import get_writer\n",
    " \n",
    "import astra\n",
    "import numpy as np\n",
    "from tifffile import imsave\n",
    "from skimage import io\n",
    "import matplotlib.pyplot as plt\n",
    "\n",
    "# Timing\n",
    "from tqdm import tqdm\n",
    "import time\n",
    "\n",
    "# Garbage collection\n",
    "import gc\n",
    "\n",
    "import sys\n",
    "sys.path.append('../')\n",
    "# from Srayan_autoalign import srayan_autoalign"
   ]
  },
  {
   "cell_type": "markdown",
   "id": "cb99fcdd",
   "metadata": {},
   "source": [
    "Code starts here\n",
    "\n",
    "Reconstruction of our image from 2D geometry"
   ]
  },
  {
   "cell_type": "code",
   "execution_count": 3,
   "id": "e4286fdb",
   "metadata": {},
   "outputs": [
    {
     "name": "stdout",
     "output_type": "stream",
     "text": [
      "(400, 1392, 1040)\n",
      "<class 'numpy.ndarray'>\n"
     ]
    }
   ],
   "source": [
    "# Regular import\n",
    "# del im\n",
    "# del reconstruction_fbp\n",
    "gc.collect()\n",
    "\n",
    "# PATH_TO_IMAGE =  'embryo_stack.tif'\n",
    "PATH_TO_IMAGE = r'D:\\MSci_Project\\1_Data\\2023-02-10 10pc 15um 3d phantom\\2023-02-10 10pc 15um 3d phantom fa 400proj\\1_1\\1_1_MMStack_Pos0.ome.tif'\n",
    "# PATH_TO_IMAGE = r'D:\\MSci_Project\\1_Data\\2023-03-01\\aperture sweep\\2023-03-01 ff\\MMStack_Pos0.ome.tif'\n",
    "\n",
    "im = io.imread(PATH_TO_IMAGE)\n",
    "print(im.shape)\n",
    "print(type(im))\n",
    "# srayan_autoalign.plot_alignment(im)\n",
    "\n",
    "# Crop image to centre the centre of the image on the rotation axis\n",
    "# im has dimensions (projections, height, width)\n",
    "# im = im[:,:,1:]\n",
    "# im.shape"
   ]
  },
  {
   "cell_type": "markdown",
   "id": "254d4b48-d5c7-4718-8d4a-049a1258fc24",
   "metadata": {},
   "source": [
    "To do focal scanning, need to sum objects. "
   ]
  },
  {
   "cell_type": "code",
   "execution_count": 4,
   "id": "c3c6c4b3-36ce-4e64-9a4d-f3c8a4eff768",
   "metadata": {},
   "outputs": [],
   "source": [
    "# # Import focal scanning data\n",
    "# # del im\n",
    "# gc.collect()\n",
    "# # del reconstruction_fbp\n",
    "# gc.collect()\n",
    "# PATHS_TO_IMAGES = [r'D:\\MSci_Project\\1_Data\\2023-03-01\\focal scan\\2023-03-01 fd infocus\\MMStack_Pos0.ome.tif',\n",
    "#                   r'D:\\MSci_Project\\1_Data\\2023-03-01\\focal scan\\2023-03-01 fd -750um\\MMStack_Pos0.ome.tif',\n",
    "#                   r'D:\\MSci_Project\\1_Data\\2023-03-01\\focal scan\\2023-03-01 fd -1500um\\MMStack_Pos0.ome.tif',\n",
    "#                   r'D:\\MSci_Project\\1_Data\\2023-03-01\\focal scan\\2023-03-01 fd -2250um\\MMStack_Pos0.ome.tif']\n",
    "\n",
    "# # Read in the first image\n",
    "# im = io.imread(PATHS_TO_IMAGES[0])// len(PATHS_TO_IMAGES)\n",
    "\n",
    "# # Then read in the subsequent images\n",
    "# for path in PATHS_TO_IMAGES[1:]:\n",
    "#     im += io.imread(path)// len(PATHS_TO_IMAGES)\n",
    "\n",
    "# im = im[:,:,1:]\n",
    "# im.shape"
   ]
  },
  {
   "cell_type": "code",
   "execution_count": 5,
   "id": "c51d6406-9e54-4046-8b3c-1f73742a1f48",
   "metadata": {},
   "outputs": [
    {
     "data": {
      "text/plain": [
       "65535"
      ]
     },
     "execution_count": 5,
     "metadata": {},
     "output_type": "execute_result"
    }
   ],
   "source": [
    "im.max()"
   ]
  },
  {
   "cell_type": "code",
   "execution_count": 6,
   "id": "6a8b98cb",
   "metadata": {},
   "outputs": [],
   "source": [
    "# im = srayan_autoalign.apply_offset(im)"
   ]
  },
  {
   "cell_type": "code",
   "execution_count": 7,
   "id": "6e914fb4",
   "metadata": {},
   "outputs": [
    {
     "name": "stdout",
     "output_type": "stream",
     "text": [
      "(1392, 400, 1040)\n"
     ]
    }
   ],
   "source": [
    "# Turn into sinogram\n",
    "im = np.moveaxis(im, 0, -2).astype('float64')\n",
    "print(im.shape)\n",
    "\n",
    "# Preallocate Memory\n",
    "reconstruction_fbp = np.zeros((im.shape[0], im.shape[2], im.shape[2]))"
   ]
  },
  {
   "cell_type": "markdown",
   "id": "b70c4f77-4a7d-4018-971e-177af0464482",
   "metadata": {},
   "source": [
    "This code reconstructs the image. \n",
    "\n",
    "First time running set `maximum_value = 65535`."
   ]
  },
  {
   "cell_type": "code",
   "execution_count": 8,
   "id": "dec57e4c",
   "metadata": {},
   "outputs": [
    {
     "name": "stderr",
     "output_type": "stream",
     "text": [
      "100%|██████████████████████████████████████████████████████████████████████████████| 1392/1392 [01:12<00:00, 19.10it/s]"
     ]
    },
    {
     "name": "stdout",
     "output_type": "stream",
     "text": [
      "72.89039206504822\n"
     ]
    },
    {
     "name": "stderr",
     "output_type": "stream",
     "text": [
      "\n"
     ]
    }
   ],
   "source": [
    "### Configuration ##################################\n",
    "output_dir = 'test_recon' # Directory to save reconstructions to\n",
    "maximum_value =  65535 # Value to scale the data to. Default is 65535. \n",
    "save_reconstruction = True\n",
    "\n",
    "# Infer parameters from inputs\n",
    "num_of_projections = im.shape[1]\n",
    "detector_rows = im.shape[0]  # Vertical size of detector [pixels].\n",
    "detector_cols = im.shape[-1]  # Horizontal size of detector [pixels].\n",
    "angles = np.linspace(0, 2 * np.pi, num=num_of_projections, endpoint=False)\n",
    "\n",
    "start = time.time()\n",
    "for i in tqdm(range(im.shape[0])):\n",
    "    # Copy projection images into ASTRA Toolbox.\n",
    "    proj_geom = \\\n",
    "      astra.create_proj_geom('parallel', 1.0, detector_cols, angles)\n",
    "    projections_id = astra.data2d.create('-sino', proj_geom, im[i])\n",
    "\n",
    "    # Create reconstruction.\n",
    "    vol_geom = astra.creators.create_vol_geom(detector_cols, detector_cols,\n",
    "                                              detector_rows)\n",
    "    reconstruction_id = astra.data2d.create('-vol', vol_geom, data=0)\n",
    "    alg_cfg = astra.astra_dict('FBP_CUDA')\n",
    "    alg_cfg['ProjectionDataId'] = projections_id\n",
    "    alg_cfg['ReconstructionDataId'] = reconstruction_id\n",
    "    algorithm_id = astra.algorithm.create(alg_cfg)\n",
    "    astra.algorithm.run(algorithm_id)\n",
    "    reconstruction = astra.data2d.get(reconstruction_id)\n",
    "\n",
    "    # Limit and scale reconstruction.\n",
    "    reconstruction[reconstruction < 0] = 0\n",
    "    reconstruction /= maximum_value\n",
    "    reconstruction = np.round(reconstruction * 65535).astype(np.uint16)\n",
    "\n",
    "    # Save reconstruction.\n",
    "    if save_reconstruction: \n",
    "        if not isdir(output_dir):\n",
    "            mkdir(output_dir)\n",
    "        #for i in range(detector_rows):\n",
    "            #im = reconstruction[i, :, :]\n",
    "            #im = np.flipud(im)\n",
    "        imsave(join(output_dir, 'reco%04d.tif' % i), reconstruction)\n",
    "    \n",
    "    # Save reconstruction to preallocated memory\n",
    "    reconstruction_fbp[i] = reconstruction\n",
    "    \n",
    "    # Cleanup.\n",
    "    astra.algorithm.delete(algorithm_id)\n",
    "    astra.data2d.delete(reconstruction_id)\n",
    "    astra.data2d.delete(projections_id)\n",
    "\n",
    "end = time.time()\n",
    "print(end-start)\n",
    "\n",
    "#plt.imshow(reconstruction)"
   ]
  },
  {
   "cell_type": "markdown",
   "id": "74c5965b-2d8c-4dfd-a429-11d9aae3ab3d",
   "metadata": {},
   "source": [
    "Basically trial and error to maximise the reconstructed bead brightness."
   ]
  },
  {
   "cell_type": "code",
   "execution_count": 9,
   "id": "db0ece2f",
   "metadata": {},
   "outputs": [
    {
     "data": {
      "text/plain": [
       "4205.0"
      ]
     },
     "execution_count": 9,
     "metadata": {},
     "output_type": "execute_result"
    }
   ],
   "source": [
    "np.max(reconstruction_fbp)"
   ]
  },
  {
   "cell_type": "code",
   "execution_count": 11,
   "id": "ea491a88",
   "metadata": {},
   "outputs": [
    {
     "data": {
      "text/plain": [
       "<matplotlib.image.AxesImage at 0x1b3000257e0>"
      ]
     },
     "execution_count": 11,
     "metadata": {},
     "output_type": "execute_result"
    },
    {
     "data": {
      "image/png": "[encoded data removed]",
      "text/plain": [
       "<Figure size 640x480 with 1 Axes>"
      ]
     },
     "metadata": {},
     "output_type": "display_data"
    }
   ],
   "source": [
    "plt.imshow(reconstruction_fbp[696]) #696"
   ]
  },
  {
   "cell_type": "markdown",
   "id": "ea32544e",
   "metadata": {},
   "source": [
    "3. Comparison with the performance of the 'iradon' function in skimage"
   ]
  },
  {
   "cell_type": "code",
   "execution_count": null,
   "id": "8e12dfc1",
   "metadata": {},
   "outputs": [],
   "source": [
    "# from skimage.transform import iradon\n",
    "# start = time.time()\n",
    "# skimage_output = iradon(np.moveaxis(im[400],0,1), theta=angles*180/np.pi, filter_name='ramp')\n",
    "# end = time.time()\n",
    "# print(end-start)\n",
    "# skimage_output[skimage_output < 0] = 0\n",
    "# plt.imshow(skimage_output)"
   ]
  },
  {
   "cell_type": "code",
   "execution_count": null,
   "id": "6a3c0c94",
   "metadata": {},
   "outputs": [],
   "source": [
    "# 3.86/0.0156"
   ]
  }
 ],
 "metadata": {
  "kernelspec": {
   "display_name": "Python 3 (ipykernel)",
   "language": "python",
   "name": "python3"
  },
  "language_info": {
   "codemirror_mode": {
    "name": "ipython",
    "version": 3
   },
   "file_extension": ".py",
   "mimetype": "text/x-python",
   "name": "python",
   "nbconvert_exporter": "python",
   "pygments_lexer": "ipython3",
   "version": "3.10.8"
  },
  "vscode": {
   "interpreter": {
    "hash": "924ef5b58bd14b506212eb724d995229b906ecd37a56c6fedb8badd8bf099c30"
   }
  }
 },
 "nbformat": 4,
 "nbformat_minor": 5
}

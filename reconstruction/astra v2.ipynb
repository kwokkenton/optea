{
 "cells": [
  {
   "attachments": {},
   "cell_type": "markdown",
   "id": "11b46c80",
   "metadata": {},
   "source": [
    "# GPU-accelerated FBP with ASTRA"
   ]
  },
  {
   "cell_type": "code",
   "execution_count": null,
   "id": "9692e750",
   "metadata": {},
   "outputs": [],
   "source": [
    "# IMPORTS\n",
    "from __future__ import division\n",
    "from os import mkdir\n",
    "from os.path import join, isdir\n",
    "from imageio import get_writer\n",
    "import astra\n",
    "import numpy as np\n",
    "from tifffile import imsave\n",
    "from skimage import io\n",
    "import matplotlib.pyplot as plt\n",
    "from tqdm import tqdm, trange\n",
    "import gc\n",
    "import sys\n",
    "sys.path.append('../')"
   ]
  },
  {
   "cell_type": "code",
   "execution_count": null,
   "id": "aefa10a8",
   "metadata": {},
   "outputs": [],
   "source": [
    "# FUNCTION DEFINITIONS\n",
    "\n",
    "def run_fbp(im, output_dir, max_val, save_recon=True):\n",
    "    # Turn into sinogram\n",
    "    im = np.moveaxis(im, 0, -2).astype('float64')\n",
    "\n",
    "    # Preallocate Memory\n",
    "    reconstruction_fbp = np.zeros((im.shape[0], im.shape[2], im.shape[2]))\n",
    "    print(f'Allocated memory for reconstruction, dimensions {reconstruction_fbp.shape}')\n",
    "    # Infer parameters from inputs\n",
    "    num_of_projections = im.shape[1]\n",
    "    detector_rows = im.shape[0]  # Vertical size of detector [pixels].\n",
    "    detector_cols = im.shape[-1]  # Horizontal size of detector [pixels].\n",
    "    angles = np.linspace(0, 2 * np.pi, num=num_of_projections, endpoint=False)\n",
    "\n",
    "    for i in trange(im.shape[0], desc='Reconstructing slice: '):\n",
    "        # Copy projection images into ASTRA Toolbox.\n",
    "        proj_geom = astra.create_proj_geom(\n",
    "            'parallel', 1.0, detector_cols, angles\n",
    "        )\n",
    "        projections_id = astra.data2d.create('-sino', proj_geom, im[i])\n",
    "\n",
    "        # Create reconstruction.\n",
    "        vol_geom = astra.creators.create_vol_geom(detector_cols, detector_cols,\n",
    "                                                detector_rows)\n",
    "        reconstruction_id = astra.data2d.create('-vol', vol_geom, data=0)\n",
    "        alg_cfg = astra.astra_dict('FBP_CUDA')\n",
    "        alg_cfg['ProjectionDataId'] = projections_id\n",
    "        alg_cfg['ReconstructionDataId'] = reconstruction_id\n",
    "        algorithm_id = astra.algorithm.create(alg_cfg)\n",
    "        astra.algorithm.run(algorithm_id)\n",
    "        reconstruction = astra.data2d.get(reconstruction_id)\n",
    "\n",
    "        # Limit and scale reconstruction.\n",
    "        reconstruction[reconstruction < 0] = 0\n",
    "        reconstruction /= max_val\n",
    "        reconstruction = np.round(reconstruction * 65535).astype(np.uint16)\n",
    "\n",
    "        # Save reconstruction.\n",
    "        if save_recon: \n",
    "            if not isdir(output_dir):\n",
    "                mkdir(output_dir)\n",
    "            imsave(join(output_dir, 'reco%04d.tif' % i), reconstruction)\n",
    "        \n",
    "        # Save reconstruction to preallocated memory\n",
    "        reconstruction_fbp[i] = reconstruction\n",
    "        \n",
    "        # Cleanup.\n",
    "        astra.algorithm.delete(algorithm_id)\n",
    "        astra.data2d.delete(reconstruction_id)\n",
    "        astra.data2d.delete(projections_id)\n",
    "\n",
    "        return reconstruction_fbp\n",
    "\n",
    "\n",
    "def reconstruct(im, output_dir):\n",
    "    for _ in range(2):\n",
    "        reconstruction_fbp = run_fbp(im, output_dir, 65535, save_recon=False)\n",
    "        max_val = np.max(reconstruction_fbp)\n",
    "        print(f'Reconstructed, max={max_val}. Repeating to rescale.')\n",
    "        reconstruction_fbp = run_fbp(im, output_dir, max_val)\n",
    "        print(f'Saved reconstruction to {output_dir}.')\n",
    "\n",
    "\n",
    "def align(im, bead_row):\n",
    "    bead_im = im[:, bead_row-2:bead_row+3 , :] # get bead row +/- 2\n",
    "    offsets = np.arange(1, 6)\n",
    "    offset_list = []\n",
    "    maxes = []\n",
    "    # negative offsets\n",
    "    for offset in offsets[::-1]:\n",
    "        # negative crops\n",
    "        offset_list.append(-offset)\n",
    "        crop_im = bead_im[:,:,:-offset]\n",
    "        reconstruction_fbp = run_fbp(crop_im, None, 65535, save_recon=False)\n",
    "        maxes.append(np.max(reconstruction_fbp))\n",
    "        # zero crop\n",
    "        offset_list.append(0)\n",
    "        reconstruction_fbp = run_fbp(crop_im, None, 65535, save_recon=False)\n",
    "        maxes.append(np.max(reconstruction_fbp))\n",
    "        # positive crops\n",
    "        offset_list.append(offset)\n",
    "        crop_im = bead_im[:,:,offset:]\n",
    "        reconstruction_fbp = run_fbp(crop_im, None, 65535, save_recon=False)\n",
    "        maxes.append(np.max(reconstruction_fbp))\n",
    "    plt.plot(offsets, maxes)\n",
    "    plt.xlabel('offset')\n",
    "    plt.ylabel('maximum value')\n",
    "    plt.show()\n",
    "    optimal = offsets[np.argmax(maxes)]\n",
    "    print(f'Best offset: {optimal} pixels')\n",
    "    if optimal==0:\n",
    "        reconstruction_fbp = run_fbp(bead_im, None, 65535, save_recon=False)\n",
    "        plt.imshow(reconstruction_fbp[len(reconstruction_fbp)//2])\n",
    "        plt.title('Reconstructed bead')\n",
    "        plt.show()\n",
    "        return im\n",
    "    elif optimal<0:\n",
    "        crop_im = bead_im[:,:,:-optimal]\n",
    "        recon_misaligned = run_fbp(bead_im, None, 65535, save_recon=False)\n",
    "        recon_aligned = run_fbp(crop_im, None, 65535, save_recon=False)\n",
    "        fig, axs = plt.subplots(1, 2)\n",
    "        axs[0].imshow(recon_misaligned[len(recon_misaligned)//2])\n",
    "        axs[0].set_title('Original bead recon')\n",
    "        axs[1].imshow(recon_misaligned[len(recon_misaligned)//2])\n",
    "        axs[1].set_title('Aligned bead recon')\n",
    "        plt.show()\n",
    "        return im[:,:,:-optimal]\n",
    "    elif optimal>0:\n",
    "        crop_im = bead_im[:,:,optimal:]\n",
    "        recon_misaligned = run_fbp(bead_im, None, 65535, save_recon=False)\n",
    "        recon_aligned = run_fbp(crop_im, None, 65535, save_recon=False)\n",
    "        fig, axs = plt.subplots(1, 2)\n",
    "        axs[0].imshow(recon_misaligned[len(recon_misaligned)//2])\n",
    "        axs[0].set_title('Original bead recon')\n",
    "        axs[1].imshow(recon_misaligned[len(recon_misaligned)//2])\n",
    "        axs[1].set_title('Aligned bead recon')\n",
    "        plt.show()\n",
    "        return im[:,:,optimal:]"
   ]
  },
  {
   "cell_type": "code",
   "execution_count": null,
   "id": "e4286fdb",
   "metadata": {},
   "outputs": [],
   "source": [
    "# GARBAGE COLLECTION\n",
    "if 'im' in globals():\n",
    "    del im\n",
    "if 'reconstruction_fbp' in globals():\n",
    "    del reconstruction_fbp\n",
    "gc.collect()"
   ]
  },
  {
   "cell_type": "code",
   "execution_count": null,
   "id": "1ac4f927",
   "metadata": {},
   "outputs": [],
   "source": [
    "PATH_TO_IMAGE = \\\n",
    "    r'D:\\MSci_Project\\1_Data\\2023-02-10 10pc 15um 3d phantom\\2023-02-10 10pc 15um 3d phantom fa 400proj\\1_1\\1_1_MMStack_Pos0.ome.tif'\n",
    "output_dir = 'test_recon'"
   ]
  },
  {
   "cell_type": "code",
   "execution_count": null,
   "id": "6c00e602",
   "metadata": {},
   "outputs": [],
   "source": [
    "im = io.imread(PATH_TO_IMAGE)\n",
    "print(f'Loaded {im.shape[0]} projections, dimensions ({im.shape[1:]})')"
   ]
  },
  {
   "cell_type": "code",
   "execution_count": null,
   "id": "5b791b9f",
   "metadata": {},
   "outputs": [],
   "source": [
    "aligned = align(im, bead_row)"
   ]
  },
  {
   "cell_type": "code",
   "execution_count": null,
   "id": "67dd1033",
   "metadata": {},
   "outputs": [],
   "source": [
    "reconstruct(im, output_dir)"
   ]
  }
 ],
 "metadata": {
  "kernelspec": {
   "display_name": "Python 3 (ipykernel)",
   "language": "python",
   "name": "python3"
  },
  "language_info": {
   "codemirror_mode": {
    "name": "ipython",
    "version": 3
   },
   "file_extension": ".py",
   "mimetype": "text/x-python",
   "name": "python",
   "nbconvert_exporter": "python",
   "pygments_lexer": "ipython3",
   "version": "3.9.12"
  },
  "vscode": {
   "interpreter": {
    "hash": "924ef5b58bd14b506212eb724d995229b906ecd37a56c6fedb8badd8bf099c30"
   }
  }
 },
 "nbformat": 4,
 "nbformat_minor": 5
}

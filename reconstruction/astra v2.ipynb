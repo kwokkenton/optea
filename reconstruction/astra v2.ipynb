{
 "cells": [
  {
   "cell_type": "markdown",
   "id": "11b46c80",
   "metadata": {},
   "source": [
    "# GPU-accelerated FBP with ASTRA"
   ]
  },
  {
   "cell_type": "code",
   "execution_count": null,
   "id": "9692e750",
   "metadata": {},
   "outputs": [],
   "source": [
    "# IMPORTS\n",
    "import gc\n",
    "from fbp_fns import *\n",
    "import sys\n",
    "sys.path.append('../')"
   ]
  },
  {
   "cell_type": "code",
   "execution_count": null,
   "id": "e4286fdb",
   "metadata": {},
   "outputs": [],
   "source": [
    "# GARBAGE COLLECTION\n",
    "if 'im' in globals():\n",
    "    del im\n",
    "if 'reconstruction_fbp' in globals():\n",
    "    del reconstruction_fbp\n",
    "_ = gc.collect()"
   ]
  },
  {
   "cell_type": "code",
   "execution_count": null,
   "id": "987c5556",
   "metadata": {},
   "outputs": [],
   "source": [
    "# # SINGLE IMAGE\n",
    "\n",
    "# PATH_TO_IMAGE = \\\n",
    "#     r'D:\\MSci_Project\\1_Data\\2023-02-10 10pc 15um 3d phantom\\2023-02-10 10pc 15um 3d phantom fa 400proj\\1_1\\1_1_MMStack_Pos0.ome.tif'\n",
    "# output_dir = 'test_recon'\n",
    "# bead_row = 626\n",
    "\n",
    "# im = io.imread(PATH_TO_IMAGE)\n",
    "# print(f'Loaded {im.shape[0]} projections, dimensions ({im.shape[1:]})')\n",
    "# aligned = align(im, bead_row)\n",
    "# recon = reconstruct(aligned, output_dir)"
   ]
  },
  {
   "cell_type": "code",
   "execution_count": null,
   "id": "ddc1e5db",
   "metadata": {},
   "outputs": [],
   "source": [
    "# # FOCAL SCAN\n",
    "\n",
    "# PATHS_TO_IMAGES = [r'D:\\MSci_Project\\1_Data\\2023-03-01\\focal scan\\2023-03-01 fd infocus\\MMStack_Pos0.ome.tif',\n",
    "#                   r'D:\\MSci_Project\\1_Data\\2023-03-01\\focal scan\\2023-03-01 fd -750um\\MMStack_Pos0.ome.tif',\n",
    "#                   r'D:\\MSci_Project\\1_Data\\2023-03-01\\focal scan\\2023-03-01 fd -1500um\\MMStack_Pos0.ome.tif',\n",
    "#                   r'D:\\MSci_Project\\1_Data\\2023-03-01\\focal scan\\2023-03-01 fd -2250um\\MMStack_Pos0.ome.tif']\n",
    "# output_dir = '2023-03-01 focal scan'\n",
    "# bead_row = 626\n",
    "\n",
    "# im = io.imread(PATHS_TO_IMAGES[0]) // len(PATHS_TO_IMAGES)\n",
    "# for path in PATHS_TO_IMAGES[1:]:\n",
    "#     im += io.imread(path) // len(PATHS_TO_IMAGES)\n",
    "# print(f'Loaded {im.shape[0]} projections, dimensions ({im.shape[1:]})')\n",
    "# aligned = align(im, bead_row)\n",
    "# recon = reconstruct(aligned, output_dir)"
   ]
  },
  {
   "cell_type": "code",
   "execution_count": null,
   "id": "755b3312",
   "metadata": {},
   "outputs": [],
   "source": [
    "# # MULTIPLE IMAGES\n",
    "\n",
    "# PATHS_TO_IMAGES = [r'D:\\MSci_Project\\1_Data\\2023-03-01\\focal scan\\2023-03-01 fd infocus\\MMStack_Pos0.ome.tif',\n",
    "#                   r'D:\\MSci_Project\\1_Data\\2023-03-01\\focal scan\\2023-03-01 fd -750um\\MMStack_Pos0.ome.tif',\n",
    "#                   r'D:\\MSci_Project\\1_Data\\2023-03-01\\focal scan\\2023-03-01 fd -1500um\\MMStack_Pos0.ome.tif',\n",
    "#                   r'D:\\MSci_Project\\1_Data\\2023-03-01\\focal scan\\2023-03-01 fd -2250um\\MMStack_Pos0.ome.tif']\n",
    "# output_dirs = ['2023-03-01 infocus', '2023-03-01 -750um', '2023-03-01 -1500um', '2023-03-01 -2250um']\n",
    "# bead_row = 626\n",
    "\n",
    "# for PATH_TO_IMAGE, output_dir in zip(PATHS_TO_IMAGES, output_dirs):\n",
    "#     im = io.imread(PATH_TO_IMAGE)\n",
    "#     print(f'Loaded {im.shape[0]} projections, dimensions ({im.shape[1:]})')\n",
    "#     aligned = align(im, bead_row)\n",
    "#     recon = reconstruct(aligned, output_dir)\n",
    "#     if 'im' in globals():\n",
    "#         del im\n",
    "#     if 'reconstruction_fbp' in globals():\n",
    "#         del reconstruction_fbp\n",
    "#     _ = gc.collect()"
   ]
  }
 ],
 "metadata": {
  "kernelspec": {
   "display_name": "Python 3 (ipykernel)",
   "language": "python",
   "name": "python3"
  },
  "language_info": {
   "codemirror_mode": {
    "name": "ipython",
    "version": 3
   },
   "file_extension": ".py",
   "mimetype": "text/x-python",
   "name": "python",
   "nbconvert_exporter": "python",
   "pygments_lexer": "ipython3",
   "version": "3.9.12"
  },
  "vscode": {
   "interpreter": {
    "hash": "924ef5b58bd14b506212eb724d995229b906ecd37a56c6fedb8badd8bf099c30"
   }
  }
 },
 "nbformat": 4,
 "nbformat_minor": 5
}
